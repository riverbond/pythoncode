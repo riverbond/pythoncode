{
 "cells": [
  {
   "cell_type": "markdown",
   "metadata": {},
   "source": [
    "## Statistics"
   ]
  },
  {
   "cell_type": "code",
   "execution_count": 45,
   "metadata": {
    "collapsed": true
   },
   "outputs": [],
   "source": [
    "import random\n",
    "from __future__ import division\n",
    "from collections import Counter"
   ]
  },
  {
   "cell_type": "code",
   "execution_count": 46,
   "metadata": {},
   "outputs": [
    {
     "name": "stdout",
     "output_type": "stream",
     "text": [
      "200\n",
      "[122, 113, 77, 47, 9, 176, 152, 191, 42, 71, 84, 124, 34, 176, 148, 158, 82, 7, 132, 171, 73, 85, 152, 28, 74, 43, 40, 89, 34, 50, 164, 116, 177, 30, 101, 73, 140, 89, 82, 27, 19, 58, 14, 112, 203, 131, 112, 34, 42, 39, 194, 125, 33, 148, 150, 131, 134, 38, 135, 16, 100, 95, 174, 66, 47, 116, 133, 180, 34, 105, 153, 28, 27, 86, 107, 64, 112, 28, 139, 79, 33, 151, 124, 28, 147, 9, 110, 151, 31, 161, 68, 190, 61, 78, 106, 167, 38, 112, 4, 171, 176, 92, 169, 141, 194, 100, 161, 174, 126, 177, 20, 152, 40, 39, 117, 146, 140, 180, 44, 79, 128, 68, 69, 170, 141, 23, 56, 93, 114, 93, 79, 29, 155, 75, 34, 133, 15, 156, 148, 119, 29, 115, 139, 115, 143, 185, 4, 151, 17, 61, 108, 154, 177, 24, 82, 29, 0, 104, 124, 1, 152, 147, 135, 57, 139, 193, 38, 142, 42, 168, 94, 62, 65, 139, 102, 182, 104, 118, 190, 116, 45, 123, 20, 158, 29, 61, 3, 27, 149, 179, 94, 28, 109, 157, 4, 17, 105, 25, 23, 68]\n"
     ]
    }
   ],
   "source": [
    "num_friends = [random.randrange(0, 204) for i in range(200)]\n",
    "print len(num_friends)\n",
    "print num_friends"
   ]
  },
  {
   "cell_type": "code",
   "execution_count": 47,
   "metadata": {},
   "outputs": [
    {
     "name": "stdout",
     "output_type": "stream",
     "text": [
      "200 203 0\n"
     ]
    }
   ],
   "source": [
    "num_points     = len(num_friends)\n",
    "largest_value  = max(num_friends)\n",
    "smallest_value = min(num_friends)\n",
    "print num_points, largest_value, smallest_value"
   ]
  },
  {
   "cell_type": "markdown",
   "metadata": {},
   "source": [
    "### Central Tendencies"
   ]
  },
  {
   "cell_type": "code",
   "execution_count": 48,
   "metadata": {},
   "outputs": [
    {
     "name": "stdout",
     "output_type": "stream",
     "text": [
      "  97.0\n"
     ]
    }
   ],
   "source": [
    "def mean(x):\n",
    "    return sum(x) / len(x)\n",
    "\n",
    "print \" \", mean(num_friends)"
   ]
  },
  {
   "cell_type": "code",
   "execution_count": 49,
   "metadata": {},
   "outputs": [
    {
     "name": "stdout",
     "output_type": "stream",
     "text": [
      "  103.0\n"
     ]
    }
   ],
   "source": [
    "def median(v):\n",
    "    n        = len(v)\n",
    "    sorted_v = sorted(v)\n",
    "    midpoint = n // 2\n",
    "    \n",
    "    if n % 2 == 1:\n",
    "        return sorted_v[midpoint]\n",
    "    else:\n",
    "        lo = midpoint - 1\n",
    "        hi = midpoint\n",
    "        return (sorted_v[lo] + sorted_v[hi]) / 2\n",
    "\n",
    "print \" \", median(num_friends)"
   ]
  },
  {
   "cell_type": "code",
   "execution_count": 50,
   "metadata": {},
   "outputs": [
    {
     "name": "stdout",
     "output_type": "stream",
     "text": [
      "  25\n",
      "  42\n",
      "  147\n",
      "  174\n"
     ]
    }
   ],
   "source": [
    "def quantile(x, p):\n",
    "    p_index = int(p* len(x))\n",
    "    return sorted(x)[p_index]\n",
    "\n",
    "print \" \", quantile(num_friends, 0.10)\n",
    "print \" \", quantile(num_friends, 0.25)\n",
    "print \" \", quantile(num_friends, 0.75)\n",
    "print \" \", quantile(num_friends, 0.90)"
   ]
  },
  {
   "cell_type": "code",
   "execution_count": 53,
   "metadata": {},
   "outputs": [
    {
     "name": "stdout",
     "output_type": "stream",
     "text": [
      "   [28, 34]\n",
      "  Counter({28: 5, 34: 5, 29: 4, 112: 4, 139: 4, 152: 4, 4: 3, 27: 3, 38: 3, 42: 3, 61: 3, 68: 3, 79: 3, 82: 3, 116: 3, 124: 3, 148: 3, 151: 3, 176: 3, 177: 3, 9: 2, 17: 2, 20: 2, 23: 2, 33: 2, 39: 2, 40: 2, 47: 2, 73: 2, 89: 2, 93: 2, 94: 2, 100: 2, 104: 2, 105: 2, 115: 2, 131: 2, 133: 2, 135: 2, 140: 2, 141: 2, 147: 2, 158: 2, 161: 2, 171: 2, 174: 2, 180: 2, 190: 2, 194: 2, 0: 1, 1: 1, 3: 1, 7: 1, 14: 1, 15: 1, 16: 1, 19: 1, 24: 1, 25: 1, 30: 1, 31: 1, 43: 1, 44: 1, 45: 1, 50: 1, 56: 1, 57: 1, 58: 1, 62: 1, 64: 1, 65: 1, 66: 1, 69: 1, 71: 1, 74: 1, 75: 1, 77: 1, 78: 1, 84: 1, 85: 1, 86: 1, 92: 1, 95: 1, 101: 1, 102: 1, 106: 1, 107: 1, 108: 1, 109: 1, 110: 1, 113: 1, 114: 1, 117: 1, 118: 1, 119: 1, 122: 1, 123: 1, 125: 1, 126: 1, 128: 1, 132: 1, 134: 1, 142: 1, 143: 1, 146: 1, 149: 1, 150: 1, 153: 1, 154: 1, 155: 1, 156: 1, 157: 1, 164: 1, 167: 1, 168: 1, 169: 1, 170: 1, 179: 1, 182: 1, 185: 1, 191: 1, 193: 1, 203: 1})\n"
     ]
    }
   ],
   "source": [
    "def mode(x):\n",
    "    counts = Counter(x)\n",
    "    max_count = max(counts.values())\n",
    "    return [x_i for x_i, count in counts.iteritems()\n",
    "           if count == max_count]\n",
    "\n",
    "print \" \", mode(num_friends)\n",
    "print \" \", Counter(num_friends)"
   ]
  },
  {
   "cell_type": "code",
   "execution_count": null,
   "metadata": {
    "collapsed": true
   },
   "outputs": [],
   "source": []
  }
 ],
 "metadata": {
  "kernelspec": {
   "display_name": "Python 2",
   "language": "python",
   "name": "python2"
  },
  "language_info": {
   "codemirror_mode": {
    "name": "ipython",
    "version": 2
   },
   "file_extension": ".py",
   "mimetype": "text/x-python",
   "name": "python",
   "nbconvert_exporter": "python",
   "pygments_lexer": "ipython2",
   "version": "2.7.13"
  }
 },
 "nbformat": 4,
 "nbformat_minor": 2
}
