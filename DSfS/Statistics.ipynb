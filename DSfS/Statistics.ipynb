{
 "cells": [
  {
   "cell_type": "markdown",
   "metadata": {},
   "source": [
    "## Statistics"
   ]
  },
  {
   "cell_type": "code",
   "execution_count": 1,
   "metadata": {
    "collapsed": true
   },
   "outputs": [],
   "source": [
    "import random\n",
    "from __future__ import division\n",
    "from collections import Counter"
   ]
  },
  {
   "cell_type": "code",
   "execution_count": 2,
   "metadata": {},
   "outputs": [
    {
     "name": "stdout",
     "output_type": "stream",
     "text": [
      "200\n",
      "[124, 282, 252, 63, 83, 11, 100, 47, 155, 213, 254, 64, 156, 253, 230, 134, 263, 233, 59, 131, 195, 246, 37, 224, 57, 99, 0, 65, 216, 237, 260, 148, 136, 30, 160, 51, 157, 280, 23, 273, 47, 236, 251, 212, 46, 154, 114, 174, 287, 247, 3, 19, 130, 125, 296, 194, 48, 38, 263, 149, 220, 270, 227, 74, 23, 210, 137, 262, 250, 187, 247, 270, 27, 249, 251, 138, 98, 69, 3, 249, 151, 7, 150, 205, 263, 262, 216, 16, 85, 156, 123, 223, 111, 180, 242, 37, 28, 198, 8, 143, 160, 222, 295, 132, 286, 123, 33, 262, 92, 259, 32, 34, 221, 100, 147, 34, 195, 181, 68, 203, 245, 25, 191, 206, 86, 202, 136, 249, 19, 212, 36, 236, 132, 77, 71, 87, 189, 212, 220, 284, 222, 182, 237, 10, 105, 177, 172, 26, 262, 119, 255, 197, 136, 238, 49, 219, 266, 88, 254, 131, 115, 262, 156, 280, 164, 298, 154, 296, 50, 164, 130, 4, 289, 253, 144, 30, 109, 121, 291, 110, 151, 63, 241, 44, 87, 104, 149, 264, 219, 206, 230, 173, 152, 194, 178, 50, 276, 225, 12, 44]\n"
     ]
    }
   ],
   "source": [
    "num_friends = [random.randrange(0, 300) for i in range(200)]\n",
    "print len(num_friends)\n",
    "print num_friends"
   ]
  },
  {
   "cell_type": "code",
   "execution_count": 3,
   "metadata": {},
   "outputs": [
    {
     "name": "stdout",
     "output_type": "stream",
     "text": [
      "200 298 0\n"
     ]
    }
   ],
   "source": [
    "num_points     = len(num_friends)\n",
    "largest_value  = max(num_friends)\n",
    "smallest_value = min(num_friends)\n",
    "print num_points, largest_value, smallest_value"
   ]
  },
  {
   "cell_type": "markdown",
   "metadata": {},
   "source": [
    "### Central Tendencies"
   ]
  },
  {
   "cell_type": "code",
   "execution_count": 4,
   "metadata": {},
   "outputs": [
    {
     "name": "stdout",
     "output_type": "stream",
     "text": [
      "  156.6\n"
     ]
    }
   ],
   "source": [
    "def mean(x):\n",
    "    return sum(x) / len(x)\n",
    "\n",
    "print \" \", mean(num_friends)"
   ]
  },
  {
   "cell_type": "code",
   "execution_count": 5,
   "metadata": {},
   "outputs": [
    {
     "name": "stdout",
     "output_type": "stream",
     "text": [
      "  156.0\n"
     ]
    }
   ],
   "source": [
    "def median(v):\n",
    "    n        = len(v)\n",
    "    sorted_v = sorted(v)\n",
    "    midpoint = n // 2\n",
    "    \n",
    "    if n % 2 == 1:\n",
    "        return sorted_v[midpoint]\n",
    "    else:\n",
    "        lo = midpoint - 1\n",
    "        hi = midpoint\n",
    "        return (sorted_v[lo] + sorted_v[hi]) / 2\n",
    "\n",
    "print \" \", median(num_friends)"
   ]
  },
  {
   "cell_type": "code",
   "execution_count": 6,
   "metadata": {},
   "outputs": [
    {
     "name": "stdout",
     "output_type": "stream",
     "text": [
      "  32\n",
      "  85\n",
      "  236\n",
      "  263\n"
     ]
    }
   ],
   "source": [
    "def quantile(x, p):\n",
    "    p_index = int(p* len(x))\n",
    "    return sorted(x)[p_index]\n",
    "\n",
    "print \" \", quantile(num_friends, 0.10)\n",
    "print \" \", quantile(num_friends, 0.25)\n",
    "print \" \", quantile(num_friends, 0.75)\n",
    "print \" \", quantile(num_friends, 0.90)"
   ]
  },
  {
   "cell_type": "code",
   "execution_count": 7,
   "metadata": {},
   "outputs": [
    {
     "name": "stdout",
     "output_type": "stream",
     "text": [
      "  [262]\n",
      "  Counter({262: 5, 136: 3, 156: 3, 212: 3, 249: 3, 263: 3, 3: 2, 19: 2, 23: 2, 30: 2, 34: 2, 37: 2, 44: 2, 47: 2, 50: 2, 63: 2, 87: 2, 100: 2, 123: 2, 130: 2, 131: 2, 132: 2, 149: 2, 151: 2, 154: 2, 160: 2, 164: 2, 194: 2, 195: 2, 206: 2, 216: 2, 219: 2, 220: 2, 222: 2, 230: 2, 236: 2, 237: 2, 247: 2, 251: 2, 253: 2, 254: 2, 270: 2, 280: 2, 296: 2, 0: 1, 4: 1, 7: 1, 8: 1, 10: 1, 11: 1, 12: 1, 16: 1, 25: 1, 26: 1, 27: 1, 28: 1, 32: 1, 33: 1, 36: 1, 38: 1, 46: 1, 48: 1, 49: 1, 51: 1, 57: 1, 59: 1, 64: 1, 65: 1, 68: 1, 69: 1, 71: 1, 74: 1, 77: 1, 83: 1, 85: 1, 86: 1, 88: 1, 92: 1, 98: 1, 99: 1, 104: 1, 105: 1, 109: 1, 110: 1, 111: 1, 114: 1, 115: 1, 119: 1, 121: 1, 124: 1, 125: 1, 134: 1, 137: 1, 138: 1, 143: 1, 144: 1, 147: 1, 148: 1, 150: 1, 152: 1, 155: 1, 157: 1, 172: 1, 173: 1, 174: 1, 177: 1, 178: 1, 180: 1, 181: 1, 182: 1, 187: 1, 189: 1, 191: 1, 197: 1, 198: 1, 202: 1, 203: 1, 205: 1, 210: 1, 213: 1, 221: 1, 223: 1, 224: 1, 225: 1, 227: 1, 233: 1, 238: 1, 241: 1, 242: 1, 245: 1, 246: 1, 250: 1, 252: 1, 255: 1, 259: 1, 260: 1, 264: 1, 266: 1, 273: 1, 276: 1, 282: 1, 284: 1, 286: 1, 287: 1, 289: 1, 291: 1, 295: 1, 298: 1})\n"
     ]
    }
   ],
   "source": [
    "def mode(x):\n",
    "    counts = Counter(x)\n",
    "    max_count = max(counts.values())\n",
    "    return [x_i for x_i, count in counts.iteritems()\n",
    "           if count == max_count]\n",
    "\n",
    "print \" \", mode(num_friends)\n",
    "print \" \", Counter(num_friends) "
   ]
  },
  {
   "cell_type": "code",
   "execution_count": 8,
   "metadata": {},
   "outputs": [
    {
     "name": "stdout",
     "output_type": "stream",
     "text": [
      "298\n"
     ]
    }
   ],
   "source": [
    "def data_range(x):\n",
    "    return max(x) - min(x) \n",
    "\n",
    "print data_range(num_friends) "
   ]
  },
  {
   "cell_type": "code",
   "execution_count": 18,
   "metadata": {},
   "outputs": [
    {
     "name": "stdout",
     "output_type": "stream",
     "text": [
      "  7527.83919598 1498040.0\n"
     ]
    }
   ],
   "source": [
    "import LinearAlgebra # import LinearAlgebra.py file (saved from .ipynb notebook of same name)\n",
    "\n",
    "def de_mean(x):\n",
    "    x_bar = mean(x)\n",
    "    return [x_i - x_bar for x_i in x]\n",
    "\n",
    "def variance(x):\n",
    "    n          = len(x)\n",
    "    deviations = de_mean(x)\n",
    "    return sum_of_squares(deviations) / (n - 1)\n",
    "\n",
    "print \" \", variance(num_friends), sum_of_squares(de_mean(num_friends)) "
   ]
  },
  {
   "cell_type": "code",
   "execution_count": 19,
   "metadata": {},
   "outputs": [
    {
     "name": "stdout",
     "output_type": "stream",
     "text": [
      "  86.7631211747\n"
     ]
    }
   ],
   "source": [
    "def standard_deviation(x):\n",
    "    return math.sqrt(variance(x))\n",
    "\n",
    "print \" \", standard_deviation(num_friends) "
   ]
  },
  {
   "cell_type": "code",
   "execution_count": 20,
   "metadata": {},
   "outputs": [
    {
     "name": "stdout",
     "output_type": "stream",
     "text": [
      "  151\n"
     ]
    }
   ],
   "source": [
    "def interquartile_range(x):\n",
    "    return quantile(x, 0.75) - quantile(x, 0.25)\n",
    "\n",
    "print \" \", interquartile_range(num_friends)"
   ]
  },
  {
   "cell_type": "code",
   "execution_count": 22,
   "metadata": {
    "collapsed": true
   },
   "outputs": [],
   "source": [
    "def covariance(x, y):\n",
    "    n = len(x) # should be the case that len(x) equals len(y).\n",
    "    return dot(de_mean(x), de_mean(y)) / (n - 1) "
   ]
  },
  {
   "cell_type": "code",
   "execution_count": 23,
   "metadata": {
    "collapsed": true
   },
   "outputs": [],
   "source": [
    "def correlation(x, y):\n",
    "    stdev_x = standard_deviation(x)\n",
    "    stdev_y = standard_deviation(y)\n",
    "    if stdev_x > 0 and stdev_y > 0:\n",
    "        return covariance(x, y) / stdev_x / stdev_y\n",
    "    else:\n",
    "        return 0 # if no variation, correlation is zero"
   ]
  }
 ],
 "metadata": {
  "kernelspec": {
   "display_name": "Python 2",
   "language": "python",
   "name": "python2"
  },
  "language_info": {
   "codemirror_mode": {
    "name": "ipython",
    "version": 2
   },
   "file_extension": ".py",
   "mimetype": "text/x-python",
   "name": "python",
   "nbconvert_exporter": "python",
   "pygments_lexer": "ipython2",
   "version": "2.7.13"
  }
 },
 "nbformat": 4,
 "nbformat_minor": 2
}
